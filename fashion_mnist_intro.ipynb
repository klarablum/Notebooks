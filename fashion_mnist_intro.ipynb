{
  "nbformat": 4,
  "nbformat_minor": 0,
  "metadata": {
    "colab": {
      "provenance": [],
      "collapsed_sections": [],
      "toc_visible": true,
      "include_colab_link": true
    },
    "kernelspec": {
      "name": "python3",
      "display_name": "Python 3"
    },
    "accelerator": "GPU"
  },
  "cells": [
    {
      "cell_type": "markdown",
      "metadata": {
        "id": "view-in-github",
        "colab_type": "text"
      },
      "source": [
        "<a href=\"https://colab.research.google.com/github/klarablum/Notebooks/blob/main/fashion_mnist_intro.ipynb\" target=\"_parent\"><img src=\"https://colab.research.google.com/assets/colab-badge.svg\" alt=\"Open In Colab\"/></a>"
      ]
    },
    {
      "cell_type": "markdown",
      "metadata": {
        "id": "4Pb7pbcw_mu3"
      },
      "source": [
        "#### Importieren der Libraries"
      ]
    },
    {
      "cell_type": "code",
      "metadata": {
        "id": "BYKdhdArMixR"
      },
      "source": [
        "#!pip install deeplearning2020\n",
        "import tensorflow as tf\n",
        "from tensorflow import keras\n",
        "import numpy as np\n",
        "import matplotlib.pyplot as plt\n",
        "#from deeplearning2020 import helpers"
      ],
      "execution_count": null,
      "outputs": []
    },
    {
      "cell_type": "code",
      "source": [
        "% run "
      ],
      "metadata": {
        "id": "MJB7ve8wEMKf"
      },
      "execution_count": null,
      "outputs": []
    },
    {
      "cell_type": "markdown",
      "metadata": {
        "id": "h4yynkUtAh4U"
      },
      "source": [
        "#### Laden des MNIST Dataset\n",
        "\n",
        "Als Erstes wollen wir den Datensatz wie im Video \"Laden und Bearbeiten des MNIST Datensatz\" laden."
      ]
    },
    {
      "cell_type": "code",
      "metadata": {
        "id": "HrkKkPW2OIfB",
        "outputId": "546ec6e6-50c0-41c0-dc89-2b873585a3b0",
        "colab": {
          "base_uri": "https://localhost:8080/",
          "height": 170
        }
      },
      "source": [
        "fashion_mnist = keras.datasets.fashion_mnist\n",
        "(train_images, train_labels), (test_images, test_labels) = fashion_mnist.load_data()"
      ],
      "execution_count": null,
      "outputs": [
        {
          "output_type": "stream",
          "text": [
            "Downloading data from https://storage.googleapis.com/tensorflow/tf-keras-datasets/train-labels-idx1-ubyte.gz\n",
            "32768/29515 [=================================] - 0s 0us/step\n",
            "Downloading data from https://storage.googleapis.com/tensorflow/tf-keras-datasets/train-images-idx3-ubyte.gz\n",
            "26427392/26421880 [==============================] - 0s 0us/step\n",
            "Downloading data from https://storage.googleapis.com/tensorflow/tf-keras-datasets/t10k-labels-idx1-ubyte.gz\n",
            "8192/5148 [===============================================] - 0s 0us/step\n",
            "Downloading data from https://storage.googleapis.com/tensorflow/tf-keras-datasets/t10k-images-idx3-ubyte.gz\n",
            "4423680/4422102 [==============================] - 0s 0us/step\n"
          ],
          "name": "stdout"
        }
      ]
    },
    {
      "cell_type": "markdown",
      "metadata": {
        "id": "4_E7k74DBJ4_"
      },
      "source": [
        "Wir errinnern uns, dass die Pixelwerte noch nicht in normaliserter Form vorliegen. Wir normalisieren diese also zunächst indem wir durch den maximalen Pixelwert 255 teilen:"
      ]
    },
    {
      "cell_type": "code",
      "metadata": {
        "id": "6onrRWeHOV8b"
      },
      "source": [
        "train_images = train_images / 255.0\n",
        "test_images = test_images / 255.0"
      ],
      "execution_count": null,
      "outputs": []
    },
    {
      "cell_type": "markdown",
      "metadata": {
        "id": "teAwiBwgBlgr"
      },
      "source": [
        "Zuletzt hatten wir noch das Problem, dass die Labels des Datensatzes einfach nur Zahlen waren.\n",
        "- Das Bild der handgeschriebenen 5 hat das Label `5`.\n",
        "- Wir hätten in diesem Fall jedoch gerne den Vektor `[0. 0. 0. 0. 0. 1. 0. 0. 0. 0.]` als Label, welcher der von unserem Netz gewünschten Ausgabe entspricht. Dieser Vektor hat nur an Stelle 5 (beginnend bei 0) eine 1.\n",
        "\n",
        "Für detailliertere Erklärungen sei an dieser Stelle wieder auf das Video \"Laden und Bearbeiten des MNIST Datensatzes\" verwiesen.\n"
      ]
    },
    {
      "cell_type": "code",
      "metadata": {
        "id": "rIKVxQK-C8ii"
      },
      "source": [
        "total_classes = 10\n",
        "train_vec_labels = keras.utils.to_categorical(train_labels, total_classes)\n",
        "test_vec_labels = keras.utils.to_categorical(test_labels, total_classes)"
      ],
      "execution_count": null,
      "outputs": []
    },
    {
      "cell_type": "code",
      "metadata": {
        "id": "CX1ib8nB4lqu"
      },
      "source": [],
      "execution_count": null,
      "outputs": []
    },
    {
      "cell_type": "markdown",
      "metadata": {
        "id": "vFp_jgGcDRTl"
      },
      "source": [
        "#### Entwurf eines Netzes\n",
        "\n",
        "Nun haben wir die Eingabedaten normalisiert und die Labels als Vektoren vorliegen. Wir können also endlich anfangen ein Netz für die Erkennung der handgeschriebenen Zahlen zu bauen! :)  "
      ]
    },
    {
      "cell_type": "markdown",
      "metadata": {
        "id": "T-KdN4xbuSAT"
      },
      "source": [
        "Wir wollen dafür ein sehr einfaches Netz mit 3 Layern definieren (Eingabelayer, Hidden Layer und Ausgabelayer):\n",
        "- Als **Input-Layer** verwenden wir einen `keras.layers.Flatten` Layer, der die 28x28 Matrizen, die wir als Eingaben erhalten auf $28\\cdot 28 = 784$ Neuronen verteilt\n",
        "- Als nächstes verwenden wir für den **Hidden-Layer** einen `keras.layers.Dense` Layer mit 128 Neuronen, wobei wir 128 als eine gute Anzahl empfinden\n",
        "- Als **Output-Layer** verwenden wir einen `keras.layers.Dense` Layer mit 10 Neuronen, da wir 10 Klassen (Ziffern von 0-9) erkennen wollen\n"
      ]
    },
    {
      "cell_type": "code",
      "metadata": {
        "id": "EEvwJtk7Oppm"
      },
      "source": [
        "model_sigmoid = keras.Sequential([\n",
        "    keras.layers.Flatten(input_shape=(28, 28)),\n",
        "    keras.layers.Dense(128, activation='sigmoid'), \n",
        "    keras.layers.Dense(10, activation='sigmoid')\n",
        "])\n",
        "model_linear = keras.Sequential([\n",
        "    keras.layers.Flatten(input_shape=(28, 28)),\n",
        "    keras.layers.Dense(128, activation='linear'), \n",
        "    keras.layers.Dense(10, activation='linear')\n",
        "])\n",
        "model_relu = keras.Sequential([\n",
        "    keras.layers.Flatten(input_shape=(28, 28)),\n",
        "    keras.layers.Dense(128, activation='relu'), \n",
        "    keras.layers.Dense(10, activation='sigmoid')\n",
        "])\n",
        "model_tanh = keras.Sequential([\n",
        "    keras.layers.Flatten(input_shape=(28, 28)),\n",
        "    keras.layers.Dense(128, activation='tanh'), \n",
        "    keras.layers.Dense(10, activation='tanh')\n",
        "])\n",
        "models= [model_sigmoid, model_linear, model_relu, model_tanh]"
      ],
      "execution_count": null,
      "outputs": []
    },
    {
      "cell_type": "markdown",
      "metadata": {
        "id": "Ii2xQYOQEGZy"
      },
      "source": [
        "#### Kompilieren des Netzes\n",
        "\n",
        "Nach dem wir unser Netz definiert haben, müssen wir es *kompilieren*, bevor wir mit dem Training beginnen können.\n",
        "\n",
        "In diesem Schritt legen wir wichtige Parameter für die Trainingsphase fest:\n",
        "- Der **Optimizer** ist der im Training verwendete Lernalgorithmus zur Verbesserung des Netzes. In der letzen Woche haben wir ja bereits *Gradient Descent* und dessen Optimierung *Stochastic Gradient Descent* (SGD, siehe *Deep Dive: Backpropagation*) kennengelernt.\n",
        "- Der **Loss** ist die verwendete Kostenfunktion. Ziel während des Trainings ist es, diese zu minimieren. Wir haben in Woche 1 bereits die Quadratische Fehlerfunktion (*Squared Error*) kennengelernt.\n",
        "- Die **Metrics** sind die während des Trainings ausgewerteten Metrics. Bei allen Klassifikationsproblemen interessiert uns hier die `\"accuracy\"`."
      ]
    },
    {
      "cell_type": "markdown",
      "metadata": {
        "id": "PwbP-ebPhWzu"
      },
      "source": [
        "In diesem Beispiel verwenden wir \n",
        "- Den *Stochastic Gradient Descent* (`\"sgd\"`) Lernalgorithmus als unseren Optimizer.\n",
        "- Die `\"mean_squared_error\"` Kostenfunktion, welche im Vergleich zur normalen *Squared Error* Kostenfunktion nicht die Summe, sondern den Mittelwert der Fehler der Ausgabeneuronen berechnet."
      ]
    },
    {
      "cell_type": "code",
      "metadata": {
        "id": "mjC8UAqUOyZ6",
        "colab": {
          "base_uri": "https://localhost:8080/",
          "height": 33
        },
        "outputId": "de5ecd0a-d55e-447a-b032-62b7b11a0f16"
      },
      "source": [
        "# sgd = keras.optimizers.SGD(lr=0.01, decay=1e-6, momentum=0.9, nesterov=True)\n",
        "[\n",
        " model.compile( \n",
        "    optimizer='sgd',\n",
        "    loss='mean_squared_error',\n",
        "    metrics=['accuracy']\n",
        "    ) for model in models\n",
        "]"
      ],
      "execution_count": null,
      "outputs": [
        {
          "output_type": "execute_result",
          "data": {
            "text/plain": [
              "[None, None, None, None]"
            ]
          },
          "metadata": {
            "tags": []
          },
          "execution_count": 15
        }
      ]
    },
    {
      "cell_type": "markdown",
      "metadata": {
        "id": "5tIC_kvajNM1"
      },
      "source": [
        "#### Trainieren des Netzes\n",
        "\n",
        "Jetzt können wir endlich unser Netz tranieren. Dazu verwenden wir die `fit` Methode und übergeben unsere Trainingsbilder als Eingaben mit den dazugehörigen Labels als gewünschte Ausgaben. Die Anzahl der `epochs` gibt an, wie oft das Netz das gesamte Trainingsset zu sehen bekommt. Erhöhen wir die Anzahl der Epochen lassen wir unser Netz länger lernen.  "
      ]
    },
    {
      "cell_type": "code",
      "metadata": {
        "id": "6QDK4o68O71J",
        "outputId": "5357ab96-1be3-43f3-b0ee-50530903b632",
        "colab": {
          "base_uri": "https://localhost:8080/",
          "height": 150
        }
      },
      "source": [
        "_train_labels = keras.utils.to_categorical(train_labels,10)\n",
        "_test_labels = keras.utils.to_categorical(test_labels,10)\n",
        "epochs=20\n",
        "[\n",
        " model.fit(\n",
        "    train_images, _train_labels, epochs, verbose=True\n",
        "    )for model in models\n",
        "] "
      ],
      "execution_count": null,
      "outputs": [
        {
          "output_type": "stream",
          "text": [
            "3000/3000 [==============================] - 5s 2ms/step - loss: 0.0900 - accuracy: 0.1035\n",
            "3000/3000 [==============================] - 5s 2ms/step - loss: 0.0861 - accuracy: 0.5186\n",
            "3000/3000 [==============================] - 5s 2ms/step - loss: 0.0900 - accuracy: 0.1718\n",
            "3000/3000 [==============================] - 5s 2ms/step - loss: 0.0866 - accuracy: 0.5500\n"
          ],
          "name": "stdout"
        },
        {
          "output_type": "execute_result",
          "data": {
            "text/plain": [
              "[<tensorflow.python.keras.callbacks.History at 0x7fc80e6afcc0>,\n",
              " <tensorflow.python.keras.callbacks.History at 0x7fc80e6a63c8>,\n",
              " <tensorflow.python.keras.callbacks.History at 0x7fc80e682160>,\n",
              " <tensorflow.python.keras.callbacks.History at 0x7fc80d6594e0>]"
            ]
          },
          "metadata": {
            "tags": []
          },
          "execution_count": 28
        }
      ]
    },
    {
      "cell_type": "code",
      "metadata": {
        "id": "61WVAqFcAKNm",
        "colab": {
          "base_uri": "https://localhost:8080/",
          "height": 83
        },
        "outputId": "1d8f5701-7422-45ba-9efe-d19a5e2cdec5"
      },
      "source": [
        "_,result_sigmoid=model_sigmoid.evaluate(test_images, _test_labels)\n",
        "_,result_linear=model_linear.evaluate(test_images, _test_labels)\n",
        "_,result_relu=model_relu.evaluate(test_images, _test_labels)\n",
        "_,result_tanh=model_tanh.evaluate(test_images, _test_labels) "
      ],
      "execution_count": null,
      "outputs": [
        {
          "output_type": "stream",
          "text": [
            "313/313 [==============================] - 0s 2ms/step - loss: 0.0900 - accuracy: 0.1000\n",
            "313/313 [==============================] - 0s 1ms/step - loss: 0.0860 - accuracy: 0.4692\n",
            "313/313 [==============================] - 0s 1ms/step - loss: 0.0900 - accuracy: 0.2986\n",
            "313/313 [==============================] - 0s 1ms/step - loss: 0.0865 - accuracy: 0.5797\n"
          ],
          "name": "stdout"
        }
      ]
    },
    {
      "cell_type": "code",
      "metadata": {
        "id": "4LRqDgBcAQtN",
        "colab": {
          "base_uri": "https://localhost:8080/",
          "height": 150
        },
        "outputId": "99375d46-776d-475d-fa17-bbe6dfc60d3e"
      },
      "source": [
        "from prettytable import PrettyTable\n",
        "tbl = PrettyTable()\n",
        "tbl.field_names = [\"Activation function\", f\"Accuracy (after {epochs})\"]\n",
        "tbl.add_row([\"tanh\", result_tanh])\n",
        "tbl.add_row([\"sigmoid\", result_sigmoid])\n",
        "tbl.add_row([\"relu\", result_relu])\n",
        "tbl.add_row([\"linear\", result_linear])\n",
        "print(tbl)"
      ],
      "execution_count": null,
      "outputs": [
        {
          "output_type": "stream",
          "text": [
            "+---------------------+---------------------+\n",
            "| Activation function | Accuracy (after 20) |\n",
            "+---------------------+---------------------+\n",
            "|         tanh        |  0.5796999931335449 |\n",
            "|       sigmoid       | 0.10000000149011612 |\n",
            "|         relu        |  0.2985999882221222 |\n",
            "|        linear       |  0.4691999852657318 |\n",
            "+---------------------+---------------------+\n"
          ],
          "name": "stdout"
        }
      ]
    },
    {
      "cell_type": "markdown",
      "metadata": {
        "id": "MQDgimiQksZe"
      },
      "source": [
        "#### Evaluieren des Netzes\n",
        "\n",
        "Bisher hat das Netz nur Trainingsbilder gesehen und damit gelernt. Ziel ist es aber ja, mit unserem Netz neue Bilder von handgeschriebenen Ziffern zu erkennen. Dafür gibt es ja die Testdaten, mit denen wir unser Netz nun auf die Genauigkeit bei ungesehenen Daten überprüfen wollen."
      ]
    },
    {
      "cell_type": "code",
      "metadata": {
        "id": "zeujdy_fU0rl",
        "outputId": "74765b63-3f56-4efd-9fa9-2d6cde2f0c2f",
        "colab": {
          "base_uri": "https://localhost:8080/",
          "height": 33
        }
      },
      "source": [
        "eval_loss, eval_accuracy = model.evaluate(test_images, test_vec_labels, verbose=False)\n",
        "print(\"Model accuracy: %.2f\" % eval_accuracy)"
      ],
      "execution_count": null,
      "outputs": [
        {
          "output_type": "stream",
          "text": [
            "Model accuracy: 0.63\n"
          ],
          "name": "stdout"
        }
      ]
    },
    {
      "cell_type": "markdown",
      "metadata": {
        "id": "qhJJG4iE7AJG"
      },
      "source": [
        "#### Ausgaben des Netzes"
      ]
    },
    {
      "cell_type": "code",
      "metadata": {
        "id": "Vgb2WafA7HJm",
        "outputId": "3f706a25-e7cc-480b-c35a-71a2d1f9a87f",
        "colab": {
          "base_uri": "https://localhost:8080/",
          "height": 699
        }
      },
      "source": [
        "helpers.plot_predictions(model_tanh, test_images[:20], labels=test_vec_labels[:20])"
      ],
      "execution_count": null,
      "outputs": [
        {
          "output_type": "display_data",
          "data": {
            "image/png": "[encoded data removed]",
            "text/plain": [
              "<Figure size 648x864 with 18 Axes>"
            ]
          },
          "metadata": {
            "tags": [],
            "needs_background": "light"
          }
        }
      ]
    }
  ]
}